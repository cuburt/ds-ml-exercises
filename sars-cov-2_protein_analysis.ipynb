{
 "cells": [
  {
   "cell_type": "code",
   "execution_count": null,
   "metadata": {},
   "outputs": [],
   "source": [
    "import numpy as np\n",
    "import pandas as pd\n",
    "import matplotlib.pyplot as plt\n",
    "%matplotlib inline\n",
    "\n",
    "from Bio import SeqIO\n",
    "DNAseq = SeqIO.read('533438_976277_bundle_archive/MN908947.fna', 'fasta')\n",
    "DNA = DNAseq.seq\n",
    "mRNA = DNA.transcribe()\n",
    "nt = len(mRNA)"
   ]
  },
  {
   "cell_type": "code",
   "execution_count": 97,
   "metadata": {},
   "outputs": [],
   "source": [
    "amino_acids = mRNA.translate(table=1, cds=False)"
   ]
  },
  {
   "cell_type": "code",
   "execution_count": null,
   "metadata": {},
   "outputs": [],
   "source": [
    "Proteins = amino_acids.split('*')\n",
    "cov2_df = pd.DataFrame(Proteins)"
   ]
  },
  {
   "cell_type": "code",
   "execution_count": null,
   "metadata": {},
   "outputs": [],
   "source": [
    "def conv(item):\n",
    "    return len(item)\n",
    "\n",
    "def to_str(item):\n",
    "    return str(item)\n",
    "\n",
    "cov2_df['sequence_str'] = cov2_df[0].apply(to_str)\n",
    "cov2_df['length'] = cov2_df[0].apply(conv)\n",
    "cov2_df.rename(columns={0:\"sequence\"}, inplace=True)\n",
    "cov2_df.head()"
   ]
  },
  {
   "cell_type": "code",
   "execution_count": null,
   "metadata": {},
   "outputs": [],
   "source": [
    "plt.figure(figsize=(20,5))\n",
    "\n",
    "plt.subplot(111)\n",
    "plt.hist(cov2_df['length'])\n",
    "plt.title('Length of proteins -- histogram')\n",
    "\n",
    "plt.figure(figsize=(20,5))\n",
    "wo = cov2_df.loc[cov2_df['length']<60]\n",
    "plt.subplot(121)\n",
    "plt.hist(wo['length'])\n",
    "plt.title('Length of proteins (where < 60)')\n",
    "\n",
    "wo = cov2_df.loc[cov2_df['length'] > 1000]\n",
    "plt.subplot(122)\n",
    "plt.hist(wo['length'])\n",
    "plt.title('Length of proteins (where > 1000)')"
   ]
  },
  {
   "cell_type": "code",
   "execution_count": 59,
   "metadata": {},
   "outputs": [
    {
     "data": {
      "text/html": [
       "<div>\n",
       "<style scoped>\n",
       "    .dataframe tbody tr th:only-of-type {\n",
       "        vertical-align: middle;\n",
       "    }\n",
       "\n",
       "    .dataframe tbody tr th {\n",
       "        vertical-align: top;\n",
       "    }\n",
       "\n",
       "    .dataframe thead th {\n",
       "        text-align: right;\n",
       "    }\n",
       "</style>\n",
       "<table border=\"1\" class=\"dataframe\">\n",
       "  <thead>\n",
       "    <tr style=\"text-align: right;\">\n",
       "      <th></th>\n",
       "      <th>length</th>\n",
       "    </tr>\n",
       "  </thead>\n",
       "  <tbody>\n",
       "    <tr>\n",
       "      <th>count</th>\n",
       "      <td>80.000000</td>\n",
       "    </tr>\n",
       "    <tr>\n",
       "      <th>mean</th>\n",
       "      <td>67.262500</td>\n",
       "    </tr>\n",
       "    <tr>\n",
       "      <th>std</th>\n",
       "      <td>299.955767</td>\n",
       "    </tr>\n",
       "    <tr>\n",
       "      <th>min</th>\n",
       "      <td>20.000000</td>\n",
       "    </tr>\n",
       "    <tr>\n",
       "      <th>25%</th>\n",
       "      <td>22.000000</td>\n",
       "    </tr>\n",
       "    <tr>\n",
       "      <th>50%</th>\n",
       "      <td>25.000000</td>\n",
       "    </tr>\n",
       "    <tr>\n",
       "      <th>75%</th>\n",
       "      <td>36.000000</td>\n",
       "    </tr>\n",
       "    <tr>\n",
       "      <th>max</th>\n",
       "      <td>2701.000000</td>\n",
       "    </tr>\n",
       "  </tbody>\n",
       "</table>\n",
       "</div>"
      ],
      "text/plain": [
       "            length\n",
       "count    80.000000\n",
       "mean     67.262500\n",
       "std     299.955767\n",
       "min      20.000000\n",
       "25%      22.000000\n",
       "50%      25.000000\n",
       "75%      36.000000\n",
       "max    2701.000000"
      ]
     },
     "execution_count": 59,
     "metadata": {},
     "output_type": "execute_result"
    }
   ],
   "source": [
    "functional_proteins = cov2_df.loc[cov2_df['length']>=20]\n",
    "functional_proteins.describe()"
   ]
  },
  {
   "cell_type": "code",
   "execution_count": 60,
   "metadata": {},
   "outputs": [],
   "source": [
    "large_protein = functional_proteins.loc[functional_proteins['length']>2700]\n",
    "l = large_protein['sequence'].to_list()[0]"
   ]
  },
  {
   "cell_type": "markdown",
   "metadata": {},
   "source": [
    "## Comparing Human Coronavirus\n",
    "#### Using pairwise alignment to find similarities between genomes."
   ]
  },
  {
   "cell_type": "code",
   "execution_count": 61,
   "metadata": {},
   "outputs": [
    {
     "name": "stdout",
     "output_type": "stream",
     "text": [
      "Sequence Lengths:\n",
      "SARS 29751\n",
      "MERS 30119\n",
      "COV2 29903\n"
     ]
    }
   ],
   "source": [
    "from Bio import pairwise2\n",
    "\n",
    "SARS = SeqIO.read('533438_976277_bundle_archive/datasets_559987_1018369_sars.fasta', 'fasta')\n",
    "MERS = SeqIO.read('533438_976277_bundle_archive/datasets_559987_1018369_mers.fasta', 'fasta')\n",
    "COV2 = SeqIO.read('533438_976277_bundle_archive/datasets_559987_1018369_cov2.fasta', 'fasta')\n",
    "\n",
    "print('DNA Nucleotide Lengths:')\n",
    "print('SARS', len(SARS.seq))\n",
    "print('MERS', len(MERS.seq))\n",
    "print('COV2', len(COV2.seq))"
   ]
  },
  {
   "cell_type": "code",
   "execution_count": 63,
   "metadata": {},
   "outputs": [
    {
     "name": "stdout",
     "output_type": "stream",
     "text": [
      "Amino Acids Lengths\n",
      "SARS 9917\n",
      "MERS 10039\n",
      "COV2 9967\n"
     ]
    }
   ],
   "source": [
    "print('Amino Acids Lengths')\n",
    "sars_amino_acids = SARS.seq.transcribe().translate()\n",
    "print('SARS', len(sars_amino_acids))\n",
    "mers_amino_acids = MERS.seq.transcribe().translate()\n",
    "print('MERS', len(mers_amino_acids))\n",
    "print('COV2', len(amino_acids))"
   ]
  },
  {
   "cell_type": "code",
   "execution_count": 74,
   "metadata": {},
   "outputs": [
    {
     "name": "stdout",
     "output_type": "stream",
     "text": [
      "Protein Count\n",
      "SARS 273\n",
      "MERS 690\n",
      "COV2 775\n"
     ]
    }
   ],
   "source": [
    "SARSProteins = sars_amino_acids.split('*')\n",
    "MERSProteins = mers_amino_acids.split('*')\n",
    "\n",
    "sars_df = pd.DataFrame(SARSProteins)\n",
    "sars_df['sequence_str'] = sars_df[0].apply(to_str)\n",
    "sars_df['length'] = sars_df[0].apply(conv)\n",
    "sars_df.rename(columns={0:\"sequence\"}, inplace=True)\n",
    "mers_df = pd.DataFrame(MERSProteins)\n",
    "mers_df['sequence_str'] = mers_df[0].apply(to_str)\n",
    "mers_df['length'] = mers_df[0].apply(conv)\n",
    "mers_df.rename(columns={0:\"sequence\"}, inplace=True)\n",
    "print('Protein Count')\n",
    "print('SARS', len(sars_df))\n",
    "print('MERS', len(mers_df))\n",
    "print('COV2', len(cov2_df))"
   ]
  },
  {
   "cell_type": "code",
   "execution_count": 95,
   "metadata": {},
   "outputs": [
    {
     "data": {
      "text/plain": [
       "Text(0.5, 1.0, 'MERS Proteins')"
      ]
     },
     "execution_count": 95,
     "metadata": {},
     "output_type": "execute_result"
    },
    {
     "data": {
      "image/png": "[encoded data removed]",
      "text/plain": [
       "<Figure size 1440x360 with 2 Axes>"
      ]
     },
     "metadata": {
      "needs_background": "light"
     },
     "output_type": "display_data"
    }
   ],
   "source": [
    "sars_func_pro = sars_df.loc[sars_df['length'] > 20]\n",
    "mers_func_pro = mers_df.loc[mers_df['length'] > 20]\n",
    "plt.figure(figsize=(20,5))\n",
    "plt.subplot(121)\n",
    "plt.hist(sars_df['length'])\n",
    "plt.title('SARS Proteins')\n",
    "plt.subplot(122)\n",
    "plt.hist(mers_df['length'])\n",
    "plt.title('MERS Proteins')\n"
   ]
  },
  {
   "cell_type": "code",
   "execution_count": 98,
   "metadata": {},
   "outputs": [
    {
     "ename": "MemoryError",
     "evalue": "Out of memory",
     "output_type": "error",
     "traceback": [
      "\u001b[1;31m---------------------------------------------------------------------------\u001b[0m",
      "\u001b[1;31mMemoryError\u001b[0m                               Traceback (most recent call last)",
      "\u001b[1;32m<ipython-input-98-7e6bd086aa68>\u001b[0m in \u001b[0;36m<module>\u001b[1;34m\u001b[0m\n\u001b[1;32m----> 1\u001b[1;33m \u001b[0mSARS_COV\u001b[0m \u001b[1;33m=\u001b[0m \u001b[0mpairwise2\u001b[0m\u001b[1;33m.\u001b[0m\u001b[0malign\u001b[0m\u001b[1;33m.\u001b[0m\u001b[0mglobalxx\u001b[0m\u001b[1;33m(\u001b[0m\u001b[0mSARS\u001b[0m\u001b[1;33m.\u001b[0m\u001b[0mseq\u001b[0m\u001b[1;33m,\u001b[0m \u001b[0mCOV2\u001b[0m\u001b[1;33m.\u001b[0m\u001b[0mseq\u001b[0m\u001b[1;33m,\u001b[0m \u001b[0mone_alignment_only\u001b[0m\u001b[1;33m=\u001b[0m\u001b[1;32mTrue\u001b[0m\u001b[1;33m,\u001b[0m \u001b[0mscore_only\u001b[0m\u001b[1;33m=\u001b[0m\u001b[1;32mTrue\u001b[0m\u001b[1;33m)\u001b[0m\u001b[1;33m\u001b[0m\u001b[1;33m\u001b[0m\u001b[0m\n\u001b[0m\u001b[0;32m      2\u001b[0m \u001b[0mprint\u001b[0m\u001b[1;33m(\u001b[0m\u001b[1;34m'SARS-COV Similarity:'\u001b[0m\u001b[1;33m,\u001b[0m \u001b[0mSARS_COV\u001b[0m \u001b[1;33m/\u001b[0m \u001b[0mle\u001b[0m\u001b[1;33m|\u001b[0m\u001b[0mn\u001b[0m\u001b[1;33m(\u001b[0m\u001b[0mSARS\u001b[0m\u001b[1;33m.\u001b[0m\u001b[0mseq\u001b[0m\u001b[1;33m)\u001b[0m\u001b[1;33m*\u001b[0m\u001b[1;36m100\u001b[0m\u001b[1;33m)\u001b[0m\u001b[1;33m\u001b[0m\u001b[1;33m\u001b[0m\u001b[0m\n\u001b[0;32m      3\u001b[0m \u001b[0mMERS_COV\u001b[0m \u001b[1;33m=\u001b[0m \u001b[0mpairwise2\u001b[0m\u001b[1;33m.\u001b[0m\u001b[0malign\u001b[0m\u001b[1;33m.\u001b[0m\u001b[0mglobalxx\u001b[0m\u001b[1;33m(\u001b[0m\u001b[0mMERS\u001b[0m\u001b[1;33m.\u001b[0m\u001b[0mseq\u001b[0m\u001b[1;33m,\u001b[0m \u001b[0mCOV2\u001b[0m\u001b[1;33m.\u001b[0m\u001b[0mseq\u001b[0m\u001b[1;33m,\u001b[0m \u001b[0mone_alignment_only\u001b[0m\u001b[1;33m=\u001b[0m\u001b[1;32mTrue\u001b[0m\u001b[1;33m,\u001b[0m \u001b[0mscore_only\u001b[0m\u001b[1;33m=\u001b[0m\u001b[1;32mTrue\u001b[0m\u001b[1;33m)\u001b[0m\u001b[1;33m\u001b[0m\u001b[1;33m\u001b[0m\u001b[0m\n\u001b[0;32m      4\u001b[0m \u001b[0mprint\u001b[0m\u001b[1;33m(\u001b[0m\u001b[1;34m'MERS-COV Similarity:'\u001b[0m\u001b[1;33m,\u001b[0m \u001b[0mMERS_COV\u001b[0m \u001b[1;33m/\u001b[0m \u001b[0mlen\u001b[0m\u001b[1;33m(\u001b[0m\u001b[0mMERS\u001b[0m\u001b[1;33m.\u001b[0m\u001b[0mseq\u001b[0m\u001b[1;33m)\u001b[0m\u001b[1;33m*\u001b[0m\u001b[1;36m100\u001b[0m\u001b[1;33m)\u001b[0m\u001b[1;33m\u001b[0m\u001b[1;33m\u001b[0m\u001b[0m\n\u001b[0;32m      5\u001b[0m \u001b[0mMERS_SARS\u001b[0m \u001b[1;33m=\u001b[0m \u001b[0mpairwise2\u001b[0m\u001b[1;33m.\u001b[0m\u001b[0malign\u001b[0m\u001b[1;33m.\u001b[0m\u001b[0mglobalxx\u001b[0m\u001b[1;33m(\u001b[0m\u001b[0mMERS\u001b[0m\u001b[1;33m.\u001b[0m\u001b[0mseq\u001b[0m\u001b[1;33m,\u001b[0m \u001b[0mSARS\u001b[0m\u001b[1;33m.\u001b[0m\u001b[0mseq\u001b[0m\u001b[1;33m,\u001b[0m \u001b[0mone_alignment_only\u001b[0m\u001b[1;33m=\u001b[0m\u001b[1;32mTrue\u001b[0m\u001b[1;33m,\u001b[0m \u001b[0mscore_only\u001b[0m\u001b[1;33m=\u001b[0m\u001b[1;32mTrue\u001b[0m\u001b[1;33m)\u001b[0m\u001b[1;33m\u001b[0m\u001b[1;33m\u001b[0m\u001b[0m\n",
      "\u001b[1;32mc:\\users\\mis\\appdata\\local\\programs\\python\\python38-32\\lib\\site-packages\\Bio\\pairwise2.py\u001b[0m in \u001b[0;36m__call__\u001b[1;34m(self, *args, **keywds)\u001b[0m\n\u001b[0;32m    491\u001b[0m             \u001b[1;34m\"\"\"Call the alignment instance already created.\"\"\"\u001b[0m\u001b[1;33m\u001b[0m\u001b[1;33m\u001b[0m\u001b[0m\n\u001b[0;32m    492\u001b[0m             \u001b[0mkeywds\u001b[0m \u001b[1;33m=\u001b[0m \u001b[0mself\u001b[0m\u001b[1;33m.\u001b[0m\u001b[0mdecode\u001b[0m\u001b[1;33m(\u001b[0m\u001b[1;33m*\u001b[0m\u001b[0margs\u001b[0m\u001b[1;33m,\u001b[0m \u001b[1;33m**\u001b[0m\u001b[0mkeywds\u001b[0m\u001b[1;33m)\u001b[0m\u001b[1;33m\u001b[0m\u001b[1;33m\u001b[0m\u001b[0m\n\u001b[1;32m--> 493\u001b[1;33m             \u001b[1;32mreturn\u001b[0m \u001b[0m_align\u001b[0m\u001b[1;33m(\u001b[0m\u001b[1;33m**\u001b[0m\u001b[0mkeywds\u001b[0m\u001b[1;33m)\u001b[0m\u001b[1;33m\u001b[0m\u001b[1;33m\u001b[0m\u001b[0m\n\u001b[0m\u001b[0;32m    494\u001b[0m \u001b[1;33m\u001b[0m\u001b[0m\n\u001b[0;32m    495\u001b[0m     \u001b[1;32mdef\u001b[0m \u001b[0m__getattr__\u001b[0m\u001b[1;33m(\u001b[0m\u001b[0mself\u001b[0m\u001b[1;33m,\u001b[0m \u001b[0mattr\u001b[0m\u001b[1;33m)\u001b[0m\u001b[1;33m:\u001b[0m\u001b[1;33m\u001b[0m\u001b[1;33m\u001b[0m\u001b[0m\n",
      "\u001b[1;32mc:\\users\\mis\\appdata\\local\\programs\\python\\python38-32\\lib\\site-packages\\Bio\\pairwise2.py\u001b[0m in \u001b[0;36m_align\u001b[1;34m(sequenceA, sequenceB, match_fn, gap_A_fn, gap_B_fn, penalize_extend_when_opening, penalize_end_gaps, align_globally, gap_char, force_generic, score_only, one_alignment_only)\u001b[0m\n\u001b[0;32m    558\u001b[0m         \u001b[0mopen_A\u001b[0m\u001b[1;33m,\u001b[0m \u001b[0mextend_A\u001b[0m \u001b[1;33m=\u001b[0m \u001b[0mgap_A_fn\u001b[0m\u001b[1;33m.\u001b[0m\u001b[0mopen\u001b[0m\u001b[1;33m,\u001b[0m \u001b[0mgap_A_fn\u001b[0m\u001b[1;33m.\u001b[0m\u001b[0mextend\u001b[0m\u001b[1;33m\u001b[0m\u001b[1;33m\u001b[0m\u001b[0m\n\u001b[0;32m    559\u001b[0m         \u001b[0mopen_B\u001b[0m\u001b[1;33m,\u001b[0m \u001b[0mextend_B\u001b[0m \u001b[1;33m=\u001b[0m \u001b[0mgap_B_fn\u001b[0m\u001b[1;33m.\u001b[0m\u001b[0mopen\u001b[0m\u001b[1;33m,\u001b[0m \u001b[0mgap_B_fn\u001b[0m\u001b[1;33m.\u001b[0m\u001b[0mextend\u001b[0m\u001b[1;33m\u001b[0m\u001b[1;33m\u001b[0m\u001b[0m\n\u001b[1;32m--> 560\u001b[1;33m         matrices = _make_score_matrix_fast(\n\u001b[0m\u001b[0;32m    561\u001b[0m             \u001b[0msequenceA\u001b[0m\u001b[1;33m,\u001b[0m\u001b[1;33m\u001b[0m\u001b[1;33m\u001b[0m\u001b[0m\n\u001b[0;32m    562\u001b[0m             \u001b[0msequenceB\u001b[0m\u001b[1;33m,\u001b[0m\u001b[1;33m\u001b[0m\u001b[1;33m\u001b[0m\u001b[0m\n",
      "\u001b[1;31mMemoryError\u001b[0m: Out of memory"
     ]
    }
   ],
   "source": [
    "SARS_COV = pairwise2.align.globalxx(SARS.seq, COV2.seq, one_alignment_only=True, score_only=True)\n",
    "print('SARS-COV Similarity:', SARS_COV / le|n(SARS.seq)*100)\n",
    "MERS_COV = pairwise2.align.globalxx(MERS.seq, COV2.seq, one_alignment_only=True, score_only=True)\n",
    "print('MERS-COV Similarity:', MERS_COV / len(MERS.seq)*100)\n",
    "MERS_SARS = pairwise2.align.globalxx(MERS.seq, SARS.seq, one_alignment_only=True, score_only=True)\n",
    "print('MERS-SARS Similarity:', MERS_SARS / len(SARS.seq)*100)"
   ]
  },
  {
   "cell_type": "code",
   "execution_count": null,
   "metadata": {},
   "outputs": [],
   "source": []
  },
  {
   "cell_type": "code",
   "execution_count": null,
   "metadata": {},
   "outputs": [],
   "source": []
  },
  {
   "cell_type": "code",
   "execution_count": null,
   "metadata": {},
   "outputs": [],
   "source": []
  }
 ],
 "metadata": {
  "kernelspec": {
   "display_name": "Python 3",
   "language": "python",
   "name": "python3"
  },
  "language_info": {
   "codemirror_mode": {
    "name": "ipython",
    "version": 3
   },
   "file_extension": ".py",
   "mimetype": "text/x-python",
   "name": "python",
   "nbconvert_exporter": "python",
   "pygments_lexer": "ipython3",
   "version": "3.8.6"
  }
 },
 "nbformat": 4,
 "nbformat_minor": 4
}
